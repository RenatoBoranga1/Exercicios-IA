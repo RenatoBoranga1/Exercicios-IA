{
 "cells": [
  {
   "cell_type": "markdown",
   "metadata": {},
   "source": [
    "## Exercicio 1"
   ]
  },
  {
   "cell_type": "code",
   "execution_count": 3,
   "metadata": {},
   "outputs": [],
   "source": [
    "nome = input(\"Qual é o seu nome? \")\n",
    "\n",
    "idade = int(input(\"Quantos anos você tem? \"))\n",
    "\n",
    "if idade >= 18:\n",
    "    print(f\"Olá, {nome}! Você é maior de idade.\")\n",
    "else:\n",
    "    print(f\"Olá, {nome}! Você é menor de idade.\")"
   ]
  },
  {
   "cell_type": "markdown",
   "metadata": {},
   "source": [
    "## Exercicio 2"
   ]
  },
  {
   "cell_type": "code",
   "execution_count": 13,
   "metadata": {},
   "outputs": [
    {
     "name": "stdout",
     "output_type": "stream",
     "text": [
      "0.00: entropia de um conjunto com 0 elementos de um tipo e 200 de um outro tipo.\n",
      "1.00: entropia de um conjunto com 200 elementos de um tipo e 200 de um outro tipo.\n",
      "0.47: entropia de um conjunto com 20 elementos de um tipo e 180 de um outro tipo.\n",
      "0.47: entropia de um conjunto com 180 elementos de um tipo e 20 de um outro tipo.\n"
     ]
    }
   ],
   "source": [
    "from math import log2\n",
    "\n",
    "def entropia2(n1, n2):\n",
    "    '''Entropia de um conjunto contendo 2 classes de elementos.\n",
    "    \n",
    "        n1: quantidade de elementos da 1 classe;\n",
    "        n2: quantidade de elementos da 2 classe;\n",
    "        '''\n",
    "   \n",
    "    if n1<0 or n2<0: print (\"quantidades inválidas!\")\n",
    "    elif n1==0 or n2==0: return 0\n",
    "    else:\n",
    "        p1=n1/(n1+n2)\n",
    "        p2=1-p1\n",
    "        return -p1*log2(p1)-p2*log2(p2)\n",
    "\n",
    "\n",
    "N1=0 ; N2=200\n",
    "entropia=entropia2(N1,N2)\n",
    "print('{0:.2f}: entropia de um conjunto com {1} elementos de um tipo e {2} de um outro tipo.'.format(entropia,N1,N2))\n",
    "\n",
    "N1=200 ; N2=200\n",
    "entropia=entropia2(N1,N2)\n",
    "print('{0:.2f}: entropia de um conjunto com {1} elementos de um tipo e {2} de um outro tipo.'.format(entropia,N1,N2))\n",
    "\n",
    "N1=20 ; N2=180\n",
    "entropia=entropia2(N1,N2)\n",
    "print('{0:.2f}: entropia de um conjunto com {1} elementos de um tipo e {2} de um outro tipo.'.format(entropia,N1,N2))\n",
    "\n",
    "N1=180 ; N2=20\n",
    "entropia=entropia2(N1,N2)\n",
    "print('{0:.2f}: entropia de um conjunto com {1} elementos de um tipo e {2} de um outro tipo.'.format(entropia,N1,N2))\n"
   ]
  },
  {
   "cell_type": "markdown",
   "metadata": {},
   "source": [
    "Exercicio 3"
   ]
  },
  {
   "cell_type": "code",
   "execution_count": 2,
   "metadata": {},
   "outputs": [
    {
     "name": "stdout",
     "output_type": "stream",
     "text": [
      "-0.00: entropia de um conjunto com 0 elementos de um tipo e 200 de um outro tipo.\n",
      "1.00: entropia de um conjunto com 200 elementos de um tipo e 200 de um outro tipo.\n",
      "0.47: entropia de um conjunto com 20 elementos de um tipo e 180 de um outro tipo.\n",
      "0.47: entropia de um conjunto com 180 elementos de um tipo e 20 de um outro tipo.\n"
     ]
    }
   ],
   "source": [
    "from math import log2\n",
    "\n",
    "def entropia_multi_classe(*n_classes):\n",
    "    total_elementos = sum(n_classes)\n",
    "    \n",
    "    # Validação das quantidades de elementos\n",
    "    if total_elementos <= 0 or any(n < 0 for n in n_classes):\n",
    "        raise ValueError(\"As quantidades de elementos devem ser positivas e a soma não pode ser zero.\")\n",
    "\n",
    "    proporcoes = [ni / total_elementos for ni in n_classes]\n",
    "    entropia = -sum(p * log2(p) if p != 0 else 0 for p in proporcoes)\n",
    "\n",
    "    return entropia\n",
    "\n",
    "# Exemplos de uso com impressão formatada\n",
    "entropia = entropia_multi_classe(0, 200)\n",
    "print('{:.2f}: entropia de um conjunto com 0 elementos de um tipo e 200 de um outro tipo.'.format(entropia))\n",
    "\n",
    "entropia = entropia_multi_classe(200, 200)\n",
    "print('{:.2f}: entropia de um conjunto com 200 elementos de um tipo e 200 de um outro tipo.'.format(entropia))\n",
    "\n",
    "entropia = entropia_multi_classe(20, 180)\n",
    "print('{:.2f}: entropia de um conjunto com 20 elementos de um tipo e 180 de um outro tipo.'.format(entropia))\n",
    "\n",
    "entropia = entropia_multi_classe(180, 20)\n",
    "print('{:.2f}: entropia de um conjunto com 180 elementos de um tipo e 20 de um outro tipo.'.format(entropia))"
   ]
  }
 ],
 "metadata": {
  "kernelspec": {
   "display_name": "base",
   "language": "python",
   "name": "python3"
  },
  "language_info": {
   "codemirror_mode": {
    "name": "ipython",
    "version": 3
   },
   "file_extension": ".py",
   "mimetype": "text/x-python",
   "name": "python",
   "nbconvert_exporter": "python",
   "pygments_lexer": "ipython3",
   "version": "3.11.4"
  },
  "orig_nbformat": 4
 },
 "nbformat": 4,
 "nbformat_minor": 2
}
