{
 "cells": [
  {
   "cell_type": "code",
   "execution_count": 125,
   "metadata": {},
   "outputs": [],
   "source": [
    "class aula:\n",
    "    _lecionadas=0\n",
    "    def __init__(self,presencas):\n",
    "        self._presencas=presencas\n",
    "        self._numero=aula._lecionadas+1\n",
    "        aula._lecionadas+=1\n",
    "    def __str__(self):\n",
    "        return 'Aula ' + str(self._numero) + ' com ' + str(self._presencas) + ' presenças '\n",
    "    @classmethod\n",
    "    def reiniciarContagem(cls): #b)\n",
    "        cls._lecionadas=0"
   ]
  },
  {
   "cell_type": "code",
   "execution_count": 126,
   "metadata": {},
   "outputs": [
    {
     "name": "stdout",
     "output_type": "stream",
     "text": [
      "Aula 1 com 100 presenças \n"
     ]
    }
   ],
   "source": [
    "aula.reiniciarContagem() #b)\n",
    "al=aula(100)\n",
    "print(al)"
   ]
  },
  {
   "cell_type": "code",
   "execution_count": 127,
   "metadata": {},
   "outputs": [],
   "source": [
    "class AulaRotativa(aula):\n",
    "    def __init__(self, presencas,visualizacoes):\n",
    "        super().__init__(presencas)\n",
    "        self.visualizacoes=visualizacoes\n",
    "    def __str__(self):\n",
    "        return super().__str__()+ ' fisicas e ' + str(self.visualizacoes)+ ' online '"
   ]
  },
  {
   "cell_type": "code",
   "execution_count": 128,
   "metadata": {},
   "outputs": [],
   "source": [
    "al2=AulaRotativa(20,77)"
   ]
  },
  {
   "cell_type": "code",
   "execution_count": 129,
   "metadata": {},
   "outputs": [
    {
     "name": "stdout",
     "output_type": "stream",
     "text": [
      "Aula 2 com 20 presenças  fisicas e 77 online \n"
     ]
    }
   ],
   "source": [
    "print(al2)"
   ]
  },
  {
   "cell_type": "code",
   "execution_count": 130,
   "metadata": {},
   "outputs": [],
   "source": [
    "#c)\n"
   ]
  },
  {
   "cell_type": "code",
   "execution_count": 131,
   "metadata": {},
   "outputs": [],
   "source": [
    "aula.reiniciarContagem()\n",
    "aulas = [aula (a) for a in range(50,19,-3)]"
   ]
  },
  {
   "cell_type": "code",
   "execution_count": 132,
   "metadata": {},
   "outputs": [
    {
     "name": "stdout",
     "output_type": "stream",
     "text": [
      "Aula 1 com 50 presenças \n",
      "Aula 2 com 47 presenças \n",
      "Aula 3 com 44 presenças \n",
      "Aula 4 com 41 presenças \n",
      "Aula 5 com 38 presenças \n",
      "Aula 6 com 35 presenças \n",
      "Aula 7 com 32 presenças \n",
      "Aula 8 com 29 presenças \n",
      "Aula 9 com 26 presenças \n",
      "Aula 10 com 23 presenças \n",
      "Aula 11 com 20 presenças \n"
     ]
    }
   ],
   "source": [
    "for a in aulas:\n",
    "    print(a)"
   ]
  },
  {
   "cell_type": "code",
   "execution_count": 133,
   "metadata": {},
   "outputs": [],
   "source": [
    "#d)"
   ]
  },
  {
   "cell_type": "code",
   "execution_count": 134,
   "metadata": {},
   "outputs": [],
   "source": [
    "aula.reiniciarContagem()\n",
    "ga = (aula (a) for a in range(50,19,-3))"
   ]
  },
  {
   "cell_type": "code",
   "execution_count": 135,
   "metadata": {},
   "outputs": [],
   "source": [
    "li=list(ga)"
   ]
  },
  {
   "cell_type": "code",
   "execution_count": 136,
   "metadata": {},
   "outputs": [
    {
     "ename": "StopIteration",
     "evalue": "",
     "output_type": "error",
     "traceback": [
      "\u001b[1;31m---------------------------------------------------------------------------\u001b[0m",
      "\u001b[1;31mStopIteration\u001b[0m                             Traceback (most recent call last)",
      "\u001b[1;32mc:\\Users\\rebor\\OneDrive\\Área de Trabalho\\IPB\\IA\\exercicio8.ipynb Cell 12\u001b[0m line \u001b[0;36m1\n\u001b[1;32m----> <a href='vscode-notebook-cell:/c%3A/Users/rebor/OneDrive/%C3%81rea%20de%20Trabalho/IPB/IA/exercicio8.ipynb#X15sZmlsZQ%3D%3D?line=0'>1</a>\u001b[0m \u001b[39mprint\u001b[39m (\u001b[39mnext\u001b[39m(ga))\n",
      "\u001b[1;31mStopIteration\u001b[0m: "
     ]
    }
   ],
   "source": [
    "print (next(ga))"
   ]
  },
  {
   "cell_type": "code",
   "execution_count": null,
   "metadata": {},
   "outputs": [],
   "source": [
    "aulas.append(AulaRotativa(100,200))"
   ]
  },
  {
   "cell_type": "code",
   "execution_count": null,
   "metadata": {},
   "outputs": [],
   "source": [
    "aulas.append(AulaRotativa(33,20))"
   ]
  },
  {
   "cell_type": "code",
   "execution_count": null,
   "metadata": {},
   "outputs": [],
   "source": [
    "aulas.append(AulaRotativa(50,40))"
   ]
  },
  {
   "cell_type": "code",
   "execution_count": null,
   "metadata": {},
   "outputs": [],
   "source": [
    "for a in aulas:\n",
    "    print(a) # a.__str__() <- polimorfismo"
   ]
  }
 ],
 "metadata": {
  "kernelspec": {
   "display_name": "base",
   "language": "python",
   "name": "python3"
  },
  "language_info": {
   "codemirror_mode": {
    "name": "ipython",
    "version": 3
   },
   "file_extension": ".py",
   "mimetype": "text/x-python",
   "name": "python",
   "nbconvert_exporter": "python",
   "pygments_lexer": "ipython3",
   "version": "3.11.4"
  }
 },
 "nbformat": 4,
 "nbformat_minor": 2
}
