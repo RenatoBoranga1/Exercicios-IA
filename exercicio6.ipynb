{
 "cells": [
  {
   "cell_type": "code",
   "execution_count": 84,
   "metadata": {},
   "outputs": [],
   "source": [
    "class Colecao:\n",
    "    def __init__(self, *elems):\n",
    "        self._elementos=list(elems)\n",
    "    def __len__(self):\n",
    "        return len(self._elementos)\n",
    "    def add(self,el):\n",
    "        self._elementos.append(el)\n",
    "    def rem(self,el):\n",
    "        try:\n",
    "            self._elementos.remove(el)\n",
    "        except ValueError:\n",
    "            print ('O valor a remover não existe!')\n",
    "    def _isHeterogeneos(self):\n",
    "        if len(self)<=1 : return False\n",
    "        else:\n",
    "            for el in self._elementos:\n",
    "                if type(el)!=type(self._elementos(0)):\n",
    "                    return True\n",
    "        return False\n",
    "    def sort(self):\n",
    "        if self._isHeterogeneos(): print('Coleção heterogenea não ordenável!')\n",
    "        else: self._elementos.sort()\n",
    "    def __iter__(self):\n",
    "        for el in self._elementos:\n",
    "            yield el"
   ]
  },
  {
   "cell_type": "code",
   "execution_count": 85,
   "metadata": {},
   "outputs": [],
   "source": [
    "col0=Colecao(10,67,55,10)"
   ]
  },
  {
   "cell_type": "code",
   "execution_count": 86,
   "metadata": {},
   "outputs": [
    {
     "data": {
      "text/plain": [
       "4"
      ]
     },
     "execution_count": 86,
     "metadata": {},
     "output_type": "execute_result"
    }
   ],
   "source": [
    "len(col0)"
   ]
  },
  {
   "cell_type": "code",
   "execution_count": 87,
   "metadata": {},
   "outputs": [],
   "source": [
    "col0.add(88)"
   ]
  },
  {
   "cell_type": "code",
   "execution_count": 88,
   "metadata": {},
   "outputs": [],
   "source": [
    "col0.rem(67)"
   ]
  },
  {
   "cell_type": "code",
   "execution_count": 89,
   "metadata": {},
   "outputs": [
    {
     "data": {
      "text/plain": [
       "[10, 55, 10, 88]"
      ]
     },
     "execution_count": 89,
     "metadata": {},
     "output_type": "execute_result"
    }
   ],
   "source": [
    "col0._elementos"
   ]
  },
  {
   "cell_type": "code",
   "execution_count": 90,
   "metadata": {},
   "outputs": [],
   "source": [
    "col0._elementos.sort()"
   ]
  },
  {
   "cell_type": "code",
   "execution_count": 91,
   "metadata": {},
   "outputs": [
    {
     "name": "stdout",
     "output_type": "stream",
     "text": [
      "10\n",
      "10\n",
      "55\n",
      "88\n"
     ]
    }
   ],
   "source": [
    "for el in col0:\n",
    "    print (el)"
   ]
  },
  {
   "cell_type": "code",
   "execution_count": 92,
   "metadata": {},
   "outputs": [],
   "source": [
    "it= iter(col0)"
   ]
  },
  {
   "cell_type": "code",
   "execution_count": 97,
   "metadata": {},
   "outputs": [
    {
     "ename": "StopIteration",
     "evalue": "",
     "output_type": "error",
     "traceback": [
      "\u001b[1;31m---------------------------------------------------------------------------\u001b[0m",
      "\u001b[1;31mStopIteration\u001b[0m                             Traceback (most recent call last)",
      "\u001b[1;32mc:\\Users\\rebor\\OneDrive\\Área de Trabalho\\IPB\\IA\\exercicio6.ipynb Cell 10\u001b[0m line \u001b[0;36m1\n\u001b[1;32m----> <a href='vscode-notebook-cell:/c%3A/Users/rebor/OneDrive/%C3%81rea%20de%20Trabalho/IPB/IA/exercicio6.ipynb#X14sZmlsZQ%3D%3D?line=0'>1</a>\u001b[0m \u001b[39mnext\u001b[39m(it)\n",
      "\u001b[1;31mStopIteration\u001b[0m: "
     ]
    }
   ],
   "source": [
    "next(it)"
   ]
  }
 ],
 "metadata": {
  "kernelspec": {
   "display_name": "base",
   "language": "python",
   "name": "python3"
  },
  "language_info": {
   "codemirror_mode": {
    "name": "ipython",
    "version": 3
   },
   "file_extension": ".py",
   "mimetype": "text/x-python",
   "name": "python",
   "nbconvert_exporter": "python",
   "pygments_lexer": "ipython3",
   "version": "3.11.4"
  },
  "orig_nbformat": 4
 },
 "nbformat": 4,
 "nbformat_minor": 2
}
