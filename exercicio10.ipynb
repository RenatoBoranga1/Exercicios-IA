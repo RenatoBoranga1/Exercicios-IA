{
 "cells": [
  {
   "cell_type": "code",
   "execution_count": 240,
   "metadata": {},
   "outputs": [],
   "source": [
    "import numpy as np"
   ]
  },
  {
   "cell_type": "code",
   "execution_count": 241,
   "metadata": {},
   "outputs": [],
   "source": [
    "nomes=np.array(['ana', 'rui','pedro', 'rita', 'ze', 'to', 'luis', 'joão', 'diego','gil' ])"
   ]
  },
  {
   "cell_type": "code",
   "execution_count": 242,
   "metadata": {},
   "outputs": [
    {
     "data": {
      "text/plain": [
       "array(['ana', 'rui', 'pedro', 'rita', 'ze', 'to', 'luis', 'joão', 'diego',\n",
       "       'gil'], dtype='<U5')"
      ]
     },
     "execution_count": 242,
     "metadata": {},
     "output_type": "execute_result"
    }
   ],
   "source": [
    "nomes"
   ]
  },
  {
   "cell_type": "code",
   "execution_count": 243,
   "metadata": {},
   "outputs": [],
   "source": [
    "pp=np.random.randint(50,101,10)"
   ]
  },
  {
   "cell_type": "code",
   "execution_count": 244,
   "metadata": {},
   "outputs": [
    {
     "data": {
      "text/plain": [
       "array([ 87,  79,  77,  78, 100,  93,  71,  58,  67,  91])"
      ]
     },
     "execution_count": 244,
     "metadata": {},
     "output_type": "execute_result"
    }
   ],
   "source": [
    "pp"
   ]
  },
  {
   "cell_type": "code",
   "execution_count": 245,
   "metadata": {},
   "outputs": [],
   "source": [
    "aa=np.random.randint(150,201,10)"
   ]
  },
  {
   "cell_type": "code",
   "execution_count": 246,
   "metadata": {},
   "outputs": [
    {
     "data": {
      "text/plain": [
       "array([197, 192, 199, 184, 190, 190, 199, 180, 160, 191])"
      ]
     },
     "execution_count": 246,
     "metadata": {},
     "output_type": "execute_result"
    }
   ],
   "source": [
    "aa"
   ]
  },
  {
   "cell_type": "code",
   "execution_count": 247,
   "metadata": {},
   "outputs": [],
   "source": [
    "#b"
   ]
  },
  {
   "cell_type": "code",
   "execution_count": 248,
   "metadata": {},
   "outputs": [],
   "source": [
    "dados=np.array([pp,aa])"
   ]
  },
  {
   "cell_type": "code",
   "execution_count": 249,
   "metadata": {},
   "outputs": [
    {
     "data": {
      "text/plain": [
       "array([[ 87,  79,  77,  78, 100,  93,  71,  58,  67,  91],\n",
       "       [197, 192, 199, 184, 190, 190, 199, 180, 160, 191]])"
      ]
     },
     "execution_count": 249,
     "metadata": {},
     "output_type": "execute_result"
    }
   ],
   "source": [
    "dados"
   ]
  },
  {
   "cell_type": "code",
   "execution_count": 250,
   "metadata": {},
   "outputs": [
    {
     "data": {
      "text/plain": [
       "array([22.4, 21.4, 19.4, 23. , 27.7, 25.8, 17.9, 17.9, 26.2, 24.9])"
      ]
     },
     "execution_count": 250,
     "metadata": {},
     "output_type": "execute_result"
    }
   ],
   "source": [
    "imc = dados[0,:]/(dados[1,:]/100)**2\n",
    "np.round(imc,1)"
   ]
  },
  {
   "cell_type": "code",
   "execution_count": 251,
   "metadata": {},
   "outputs": [
    {
     "data": {
      "text/plain": [
       "array([22., 21., 19., 23., 28., 26., 18., 18., 26., 25.])"
      ]
     },
     "execution_count": 251,
     "metadata": {},
     "output_type": "execute_result"
    }
   ],
   "source": [
    "np.round(imc)"
   ]
  },
  {
   "cell_type": "code",
   "execution_count": 252,
   "metadata": {},
   "outputs": [],
   "source": [
    "#c"
   ]
  },
  {
   "cell_type": "code",
   "execution_count": 253,
   "metadata": {},
   "outputs": [
    {
     "data": {
      "text/plain": [
       "array(['ana', 'rui', 'pedro', 'rita', 'ze', 'to', 'luis', 'joão', 'diego',\n",
       "       'gil'], dtype='<U5')"
      ]
     },
     "execution_count": 253,
     "metadata": {},
     "output_type": "execute_result"
    }
   ],
   "source": [
    "nomes"
   ]
  },
  {
   "cell_type": "code",
   "execution_count": 254,
   "metadata": {},
   "outputs": [
    {
     "data": {
      "text/plain": [
       "array([False, False, False, False, False, False,  True,  True, False,\n",
       "       False])"
      ]
     },
     "execution_count": 254,
     "metadata": {},
     "output_type": "execute_result"
    }
   ],
   "source": [
    "imc<18.5"
   ]
  },
  {
   "cell_type": "code",
   "execution_count": 255,
   "metadata": {},
   "outputs": [
    {
     "data": {
      "text/plain": [
       "array([17.92884018, 17.90123457])"
      ]
     },
     "execution_count": 255,
     "metadata": {},
     "output_type": "execute_result"
    }
   ],
   "source": [
    "imc[imc<18.5]"
   ]
  },
  {
   "cell_type": "code",
   "execution_count": 256,
   "metadata": {},
   "outputs": [
    {
     "name": "stdout",
     "output_type": "stream",
     "text": [
      "Pessoas com o IMC baixo:  ['luis' 'joão']\n"
     ]
    }
   ],
   "source": [
    "print('Pessoas com o IMC baixo: ', nomes [imc<18.5])"
   ]
  },
  {
   "cell_type": "code",
   "execution_count": 257,
   "metadata": {},
   "outputs": [
    {
     "name": "stdout",
     "output_type": "stream",
     "text": [
      "Pessoas com o IMC alto ['ze' 'to' 'diego']\n"
     ]
    }
   ],
   "source": [
    "print('Pessoas com o IMC alto',nomes [imc>25])"
   ]
  },
  {
   "cell_type": "code",
   "execution_count": 258,
   "metadata": {},
   "outputs": [
    {
     "name": "stdout",
     "output_type": "stream",
     "text": [
      "Pessoas com IMC ideal\n"
     ]
    },
    {
     "data": {
      "text/plain": [
       "(None, array(['ana', 'rui', 'pedro', 'rita', 'gil'], dtype='<U5'))"
      ]
     },
     "execution_count": 258,
     "metadata": {},
     "output_type": "execute_result"
    }
   ],
   "source": [
    "print('Pessoas com IMC ideal'), nomes [(imc>=18.6) & (imc<=25)]"
   ]
  },
  {
   "cell_type": "code",
   "execution_count": 259,
   "metadata": {},
   "outputs": [
    {
     "name": "stdout",
     "output_type": "stream",
     "text": [
      "Pessoas com o IMC baixo:  ['luis' 'joão']\n",
      "Pessoas com o IMC alto ['ze' 'to' 'diego']\n",
      "Pessoas com IMC ideal ['ana' 'rui' 'pedro' 'rita' 'gil']\n"
     ]
    }
   ],
   "source": [
    "print('Pessoas com o IMC baixo: ', nomes [imc<18.5])\n",
    "print('Pessoas com o IMC alto',nomes [imc>25])\n",
    "print('Pessoas com IMC ideal', nomes [(imc>=18.6) & (imc<=25)])"
   ]
  },
  {
   "cell_type": "code",
   "execution_count": 260,
   "metadata": {},
   "outputs": [],
   "source": [
    "#d"
   ]
  },
  {
   "cell_type": "code",
   "execution_count": 261,
   "metadata": {},
   "outputs": [],
   "source": [
    "i__imc__cresc=imc.argsort()"
   ]
  },
  {
   "cell_type": "code",
   "execution_count": 262,
   "metadata": {},
   "outputs": [
    {
     "data": {
      "text/plain": [
       "array([22.41748048, 21.43012153, 19.44395344, 23.03875236, 27.70083102,\n",
       "       25.76177285, 17.92884018, 17.90123457, 26.171875  , 24.94449165])"
      ]
     },
     "execution_count": 262,
     "metadata": {},
     "output_type": "execute_result"
    }
   ],
   "source": [
    "imc"
   ]
  },
  {
   "cell_type": "code",
   "execution_count": 274,
   "metadata": {},
   "outputs": [
    {
     "name": "stdout",
     "output_type": "stream",
     "text": [
      "           joão: pesa 58 kg, mede 180 cm e tem um IMC de 17.9.\n",
      "           luis: pesa 71 kg, mede 199 cm e tem um IMC de 17.9.\n",
      "          pedro: pesa 77 kg, mede 199 cm e tem um IMC de 19.4.\n",
      "            rui: pesa 79 kg, mede 192 cm e tem um IMC de 21.4.\n",
      "            ana: pesa 87 kg, mede 197 cm e tem um IMC de 22.4.\n",
      "           rita: pesa 78 kg, mede 184 cm e tem um IMC de 23.0.\n",
      "            gil: pesa 91 kg, mede 191 cm e tem um IMC de 24.9.\n",
      "             to: pesa 93 kg, mede 190 cm e tem um IMC de 25.8.\n",
      "          diego: pesa 67 kg, mede 160 cm e tem um IMC de 26.2.\n",
      "             ze: pesa 100 kg, mede 190 cm e tem um IMC de 27.7.\n"
     ]
    }
   ],
   "source": [
    "\n",
    "for i in i__imc__cresc:\n",
    "    print ('{:>15}: pesa {} kg, mede {} cm e tem um IMC de {}.'.format(nomes[i], dados[0,i],dados[1,i],round (imc[i],1)))"
   ]
  },
  {
   "cell_type": "code",
   "execution_count": 264,
   "metadata": {},
   "outputs": [
    {
     "data": {
      "text/plain": [
       "26.171874999999996"
      ]
     },
     "execution_count": 264,
     "metadata": {},
     "output_type": "execute_result"
    }
   ],
   "source": [
    "imc[8]"
   ]
  },
  {
   "cell_type": "code",
   "execution_count": 265,
   "metadata": {},
   "outputs": [],
   "source": [
    "#E"
   ]
  },
  {
   "cell_type": "code",
   "execution_count": 266,
   "metadata": {},
   "outputs": [
    {
     "data": {
      "text/plain": [
       "array([12.19385091, 11.04355015])"
      ]
     },
     "execution_count": 266,
     "metadata": {},
     "output_type": "execute_result"
    }
   ],
   "source": [
    "dados.std(axis=1)"
   ]
  },
  {
   "cell_type": "code",
   "execution_count": 267,
   "metadata": {},
   "outputs": [
    {
     "name": "stdout",
     "output_type": "stream",
     "text": [
      "desvio padrão dos pesos: 12.2\n",
      "desvio padrão dos alturas: 11.0\n"
     ]
    }
   ],
   "source": [
    "print(\"desvio padrão dos pesos:\", round (dados.std(axis=-1)[0],1))\n",
    "print(\"desvio padrão dos alturas:\", round (dados.std(axis=-1)[1],1))"
   ]
  },
  {
   "cell_type": "code",
   "execution_count": null,
   "metadata": {},
   "outputs": [],
   "source": [
    "#f\n"
   ]
  },
  {
   "cell_type": "code",
   "execution_count": 269,
   "metadata": {},
   "outputs": [
    {
     "data": {
      "text/plain": [
       "80.1"
      ]
     },
     "execution_count": 269,
     "metadata": {},
     "output_type": "execute_result"
    }
   ],
   "source": [
    "dados[0,:].mean()"
   ]
  },
  {
   "cell_type": "code",
   "execution_count": null,
   "metadata": {},
   "outputs": [],
   "source": [
    "dados[0,:]>dados[0,:].mean()"
   ]
  }
 ],
 "metadata": {
  "kernelspec": {
   "display_name": "base",
   "language": "python",
   "name": "python3"
  },
  "language_info": {
   "codemirror_mode": {
    "name": "ipython",
    "version": 3
   },
   "file_extension": ".py",
   "mimetype": "text/x-python",
   "name": "python",
   "nbconvert_exporter": "python",
   "pygments_lexer": "ipython3",
   "version": "3.11.4"
  }
 },
 "nbformat": 4,
 "nbformat_minor": 2
}
